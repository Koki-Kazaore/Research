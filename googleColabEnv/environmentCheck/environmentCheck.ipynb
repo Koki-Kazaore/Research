{
  "nbformat": 4,
  "nbformat_minor": 0,
  "metadata": {
    "colab": {
      "provenance": [],
      "gpuType": "T4"
    },
    "kernelspec": {
      "name": "python3",
      "display_name": "Python 3"
    },
    "language_info": {
      "name": "python"
    },
    "accelerator": "GPU"
  },
  "cells": [
    {
      "cell_type": "markdown",
      "source": [
        "# ハードウェア確認"
      ],
      "metadata": {
        "id": "MkY5YmiTI3Da"
      }
    },
    {
      "cell_type": "code",
      "execution_count": null,
      "metadata": {
        "colab": {
          "base_uri": "https://localhost:8080/"
        },
        "id": "S5dNL0wxIdui",
        "outputId": "553da73f-5c5c-4ba4-8333-91eee34babcb"
      },
      "outputs": [
        {
          "output_type": "stream",
          "name": "stdout",
          "text": [
            "CPU count: 2\n",
            "Memory: 12.67 GB\n",
            "GPUs: [PhysicalDevice(name='/physical_device:GPU:0', device_type='GPU')]\n"
          ]
        }
      ],
      "source": [
        "from psutil import cpu_count, virtual_memory\n",
        "\n",
        "# CPU情報の取得\n",
        "print(f'CPU count: {cpu_count()}')\n",
        "\n",
        "# メモリ情報の取得\n",
        "mem = virtual_memory()\n",
        "print(f'Memory: {mem.total / 1024**3:.2f} GB')\n",
        "\n",
        "# ディスク情報の取得\n",
        "!df -h / | grep -E \"^/\"\n",
        "\n",
        "# GPU情報の取得\n",
        "import tensorflow as tf\n",
        "gpu_devices = tf.config.experimental.list_physical_devices('GPU')\n",
        "print(f'GPUs: {gpu_devices}')"
      ]
    },
    {
      "cell_type": "markdown",
      "source": [
        "# ベンチマークテスト"
      ],
      "metadata": {
        "id": "EYdYf0QqI7MG"
      }
    },
    {
      "cell_type": "code",
      "source": [
        "!pip install pulp\n",
        "!pip install ortools"
      ],
      "metadata": {
        "colab": {
          "base_uri": "https://localhost:8080/"
        },
        "id": "AaDVeHEsI-lF",
        "outputId": "66542b15-f971-4200-9a52-5ea1599f12fd"
      },
      "execution_count": null,
      "outputs": [
        {
          "output_type": "stream",
          "name": "stdout",
          "text": [
            "Requirement already satisfied: pulp in /usr/local/lib/python3.10/dist-packages (2.9.0)\n",
            "Requirement already satisfied: ortools in /usr/local/lib/python3.10/dist-packages (9.10.4067)\n",
            "Requirement already satisfied: absl-py>=2.0.0 in /usr/local/lib/python3.10/dist-packages (from ortools) (2.1.0)\n",
            "Requirement already satisfied: numpy>=1.13.3 in /usr/local/lib/python3.10/dist-packages (from ortools) (1.25.2)\n",
            "Requirement already satisfied: pandas>=2.0.0 in /usr/local/lib/python3.10/dist-packages (from ortools) (2.0.3)\n",
            "Requirement already satisfied: protobuf>=5.26.1 in /usr/local/lib/python3.10/dist-packages (from ortools) (5.27.2)\n",
            "Requirement already satisfied: immutabledict>=3.0.0 in /usr/local/lib/python3.10/dist-packages (from ortools) (4.2.0)\n",
            "Requirement already satisfied: python-dateutil>=2.8.2 in /usr/local/lib/python3.10/dist-packages (from pandas>=2.0.0->ortools) (2.8.2)\n",
            "Requirement already satisfied: pytz>=2020.1 in /usr/local/lib/python3.10/dist-packages (from pandas>=2.0.0->ortools) (2023.4)\n",
            "Requirement already satisfied: tzdata>=2022.1 in /usr/local/lib/python3.10/dist-packages (from pandas>=2.0.0->ortools) (2024.1)\n",
            "Requirement already satisfied: six>=1.5 in /usr/local/lib/python3.10/dist-packages (from python-dateutil>=2.8.2->pandas>=2.0.0->ortools) (1.16.0)\n"
          ]
        }
      ]
    },
    {
      "cell_type": "markdown",
      "source": [
        "## PuLPソルバー"
      ],
      "metadata": {
        "id": "JYKGR9q_KWNF"
      }
    },
    {
      "cell_type": "code",
      "source": [
        "import time\n",
        "from pulp import LpMaximize, LpProblem, LpVariable, lpSum\n",
        "import numpy as np\n",
        "\n",
        "# 問題の規模を定義\n",
        "num_variables = 1000\n",
        "num_constraints = 500\n",
        "\n",
        "# 問題を定義\n",
        "model = LpProblem(name=\"large-scale-problem\", sense=LpMaximize)\n",
        "\n",
        "# 変数を定義\n",
        "variables = [LpVariable(f\"x{i}\", lowBound=0) for i in range(num_variables)]\n",
        "\n",
        "# 目的関数を追加（ランダムな係数を使用）\n",
        "objective_coeffs = np.random.rand(num_variables)\n",
        "model += lpSum([objective_coeffs[i] * variables[i] for i in range(num_variables)])\n",
        "\n",
        "# 制約を追加（ランダムな係数と定数を使用）\n",
        "for _ in range(num_constraints):\n",
        "    constraint_coeffs = np.random.rand(num_variables)\n",
        "    rhs = np.random.rand() * 1000\n",
        "    model += lpSum([constraint_coeffs[i] * variables[i] for i in range(num_variables)]) <= rhs\n",
        "\n",
        "# 問題を解く\n",
        "start_time = time.time()\n",
        "status = model.solve()\n",
        "end_time = time.time()\n",
        "\n",
        "print(f'Solution status: {status}')\n",
        "print(f'Elapsed time: {end_time - start_time:.2f} seconds')\n"
      ],
      "metadata": {
        "colab": {
          "base_uri": "https://localhost:8080/"
        },
        "id": "AjEMmqr4JAv_",
        "outputId": "921b77bd-cc58-4e52-f068-36284d028362"
      },
      "execution_count": null,
      "outputs": [
        {
          "output_type": "stream",
          "name": "stdout",
          "text": [
            "Solution status: 1\n",
            "Elapsed time: 1.44 seconds\n"
          ]
        }
      ]
    },
    {
      "cell_type": "markdown",
      "source": [
        "## OR-Toolsソルバー"
      ],
      "metadata": {
        "id": "brIL6GlIKYol"
      }
    },
    {
      "cell_type": "code",
      "source": [
        "import time\n",
        "import numpy as np\n",
        "from ortools.linear_solver import pywraplp\n",
        "\n",
        "# 問題の規模を定義\n",
        "num_variables = 1000\n",
        "num_constraints = 500\n",
        "\n",
        "# OR-Toolsソルバーの作成\n",
        "solver = pywraplp.Solver.CreateSolver('GLOP')\n",
        "\n",
        "if not solver:\n",
        "    raise Exception(\"Solver not created.\")\n",
        "\n",
        "# 変数を定義\n",
        "variables = []\n",
        "for i in range(num_variables):\n",
        "    variables.append(solver.NumVar(0, solver.infinity(), f'x{i}'))\n",
        "\n",
        "# 目的関数を追加（ランダムな係数を使用）\n",
        "objective = solver.Objective()\n",
        "objective_coeffs = np.random.rand(num_variables)\n",
        "for i in range(num_variables):\n",
        "    objective.SetCoefficient(variables[i], objective_coeffs[i])\n",
        "objective.SetMaximization()\n",
        "\n",
        "# 制約を追加（ランダムな係数と定数を使用）\n",
        "for _ in range(num_constraints):\n",
        "    constraint_coeffs = np.random.rand(num_variables)\n",
        "    rhs = np.random.rand() * 1000\n",
        "    constraint = solver.RowConstraint(-solver.infinity(), rhs, '')\n",
        "    for i in range(num_variables):\n",
        "        constraint.SetCoefficient(variables[i], constraint_coeffs[i])\n",
        "\n",
        "# 問題を解く\n",
        "start_time = time.time()\n",
        "status = solver.Solve()\n",
        "end_time = time.time()\n",
        "\n",
        "print(f'Solution status: {status}')\n",
        "print(f'Elapsed time with OR-Tools: {end_time - start_time:.2f} seconds')\n"
      ],
      "metadata": {
        "colab": {
          "base_uri": "https://localhost:8080/"
        },
        "id": "zG1VodY6JYkv",
        "outputId": "0123024c-5572-4343-ab28-27a8256575f5"
      },
      "execution_count": null,
      "outputs": [
        {
          "output_type": "stream",
          "name": "stdout",
          "text": [
            "Solution status: 0\n",
            "Elapsed time with OR-Tools: 0.10 seconds\n"
          ]
        }
      ]
    },
    {
      "cell_type": "markdown",
      "source": [
        "# ベンチマークテスト(行列演算)"
      ],
      "metadata": {
        "id": "o3zsvghNL3B1"
      }
    },
    {
      "cell_type": "markdown",
      "source": [
        "## ベンチマークスクリプト"
      ],
      "metadata": {
        "id": "sQyHvnrPMSYy"
      }
    },
    {
      "cell_type": "code",
      "source": [
        "import numpy as np\n",
        "import time\n",
        "\n",
        "# 行列のサイズを定義\n",
        "matrix_size = 5000\n",
        "\n",
        "# ランダムな行列を生成\n",
        "A = np.random.rand(matrix_size, matrix_size)\n",
        "B = np.random.rand(matrix_size, matrix_size)\n",
        "\n",
        "# 行列の乗算を実行し、時間を計測\n",
        "start_time = time.time()\n",
        "C = np.dot(A, B)\n",
        "end_time = time.time()\n",
        "\n",
        "print(f'Elapsed time for matrix multiplication of size {matrix_size}x{matrix_size}: {end_time - start_time:.2f} seconds')\n"
      ],
      "metadata": {
        "colab": {
          "base_uri": "https://localhost:8080/"
        },
        "id": "wzLRKv2sL58A",
        "outputId": "e77d1a9d-1e08-4656-999a-0401e625749a"
      },
      "execution_count": null,
      "outputs": [
        {
          "output_type": "stream",
          "name": "stdout",
          "text": [
            "Elapsed time for matrix multiplication of size 5000x5000: 4.07 seconds\n"
          ]
        }
      ]
    },
    {
      "cell_type": "markdown",
      "source": [
        "## GPUを使用した行列演算"
      ],
      "metadata": {
        "id": "Kw3jiOcbMT7y"
      }
    },
    {
      "cell_type": "code",
      "source": [
        "import tensorflow as tf\n",
        "\n",
        "# TensorFlowのバージョン確認\n",
        "print(f'TensorFlow version: {tf.__version__}')\n",
        "\n",
        "# ランダムな行列を生成\n",
        "A = tf.random.uniform((matrix_size, matrix_size))\n",
        "B = tf.random.uniform((matrix_size, matrix_size))\n",
        "\n",
        "# GPUを使用して行列の乗算を実行し、時間を計測\n",
        "start_time = time.time()\n",
        "C = tf.matmul(A, B)\n",
        "tf_end_time = time.time()\n",
        "\n",
        "print(f'Elapsed time for matrix multiplication with TensorFlow and GPU: {tf_end_time - start_time:.2f} seconds')"
      ],
      "metadata": {
        "colab": {
          "base_uri": "https://localhost:8080/"
        },
        "id": "fgAF4LoYMJNf",
        "outputId": "5e59adfa-698b-482f-a455-c9b6c37faedb"
      },
      "execution_count": null,
      "outputs": [
        {
          "output_type": "stream",
          "name": "stdout",
          "text": [
            "TensorFlow version: 2.15.0\n",
            "Elapsed time for matrix multiplication with TensorFlow and GPU: 0.15 seconds\n"
          ]
        }
      ]
    }
  ]
}