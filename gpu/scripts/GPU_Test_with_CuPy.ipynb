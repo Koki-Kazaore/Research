{
 "cells": [
  {
   "cell_type": "markdown",
   "metadata": {},
   "source": [
    "# GPU Test with CuPy\n",
    "This notebook demonstrates a simple GPU computation using CuPy, a library that is designed to be a NumPy-compatible library for GPU computations."
   ]
  },
  {
   "cell_type": "code",
   "execution_count": 2,
   "metadata": {},
   "outputs": [],
   "source": [
    "# Import the necessary libraries\n",
    "import cupy as cp\n",
    "import numpy as np\n",
    "import time"
   ]
  },
  {
   "cell_type": "markdown",
   "metadata": {},
   "source": [
    "## Create Large Arrays\n",
    "Let's create two large arrays, one using NumPy (CPU) and one using CuPy (GPU)."
   ]
  },
  {
   "cell_type": "code",
   "execution_count": 3,
   "metadata": {},
   "outputs": [],
   "source": [
    "size = 10000000  # Size of the arrays\n",
    "\n",
    "# NumPy array on CPU\n",
    "cpu_array1 = np.random.rand(size)\n",
    "cpu_array2 = np.random.rand(size)\n",
    "\n",
    "# CuPy array on GPU\\n\",\n",
    "gpu_array1 = cp.random.rand(size)\n",
    "gpu_array2 = cp.random.rand(size)"
   ]
  },
  {
   "cell_type": "markdown",
   "metadata": {},
   "source": [
    "## Perform Addition on CPU\n",
    "First, we'll perform the addition on the CPU using NumPy and time it."
   ]
  },
  {
   "cell_type": "code",
   "execution_count": 4,
   "metadata": {},
   "outputs": [
    {
     "name": "stdout",
     "output_type": "stream",
     "text": [
      "Time taken for addition on CPU: 0.04948258399963379 seconds\n"
     ]
    }
   ],
   "source": [
    "start_cpu = time.time()\n",
    "cpu_result = cpu_array1 + cpu_array2\n",
    "end_cpu = time.time()\n",
    "print(f\"Time taken for addition on CPU: {end_cpu - start_cpu} seconds\")"
   ]
  },
  {
   "cell_type": "markdown",
   "metadata": {},
   "source": [
    "## Perform Addition on GPU\n",
    "Now, let's perform the same operation on the GPU using CuPy."
   ]
  },
  {
   "cell_type": "code",
   "execution_count": 5,
   "metadata": {},
   "outputs": [
    {
     "name": "stdout",
     "output_type": "stream",
     "text": [
      "Time taken for addition on GPU: 0.23845124244689941 seconds\n"
     ]
    }
   ],
   "source": [
    "start_gpu = time.time()\n",
    "gpu_result = gpu_array1 + gpu_array2\n",
    "end_gpu = time.time()\n",
    "print(f\"Time taken for addition on GPU: {end_gpu - start_gpu} seconds\")"
   ]
  },
  {
   "cell_type": "markdown",
   "metadata": {},
   "source": [
    "## Validate the Results\n",
    "Finally, we'll check if the results from the CPU and GPU are approximately the same."
   ]
  },
  {
   "cell_type": "code",
   "execution_count": 6,
   "metadata": {},
   "outputs": [
    {
     "name": "stdout",
     "output_type": "stream",
     "text": [
      "The results differ!\n"
     ]
    }
   ],
   "source": [
    "# Transfer GPU result back to CPU and compare\n",
    "gpu_result_cpu = cp.asnumpy(gpu_result)\n",
    "if np.allclose(cpu_result, gpu_result_cpu):\n",
    "    print(\"The results are the same!\")\n",
    "else:\n",
    "    print(\"The results differ!\")"
   ]
  }
 ],
 "metadata": {
  "kernelspec": {
   "display_name": "myvenv3.12",
   "language": "python",
   "name": "python3"
  },
  "language_info": {
   "codemirror_mode": {
    "name": "ipython",
    "version": 3
   },
   "file_extension": ".py",
   "mimetype": "text/x-python",
   "name": "python",
   "nbconvert_exporter": "python",
   "pygments_lexer": "ipython3",
   "version": "3.12.2"
  }
 },
 "nbformat": 4,
 "nbformat_minor": 2
}
